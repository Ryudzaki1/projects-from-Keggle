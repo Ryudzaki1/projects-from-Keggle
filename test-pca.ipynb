{
 "cells": [
  {
   "cell_type": "code",
   "execution_count": 1,
   "id": "50538e57",
   "metadata": {
    "_cell_guid": "b1076dfc-b9ad-4769-8c92-a6c4dae69d19",
    "_uuid": "8f2839f25d086af736a60e9eeb907d3b93b6e0e5",
    "execution": {
     "iopub.execute_input": "2024-08-07T07:59:30.155543Z",
     "iopub.status.busy": "2024-08-07T07:59:30.155278Z",
     "iopub.status.idle": "2024-08-07T07:59:31.464962Z",
     "shell.execute_reply": "2024-08-07T07:59:31.464157Z"
    },
    "papermill": {
     "duration": 1.319815,
     "end_time": "2024-08-07T07:59:31.467191",
     "exception": false,
     "start_time": "2024-08-07T07:59:30.147376",
     "status": "completed"
    },
    "tags": []
   },
   "outputs": [
    {
     "name": "stdout",
     "output_type": "stream",
     "text": [
      "/kaggle/input/santander-customer-transaction-prediction/sample_submission.csv\n",
      "/kaggle/input/santander-customer-transaction-prediction/train.csv\n",
      "/kaggle/input/santander-customer-transaction-prediction/test.csv\n"
     ]
    }
   ],
   "source": [
    "# This Python 3 environment comes with many helpful analytics libraries installed\n",
    "# It is defined by the kaggle/python Docker image: https://github.com/kaggle/docker-python\n",
    "# For example, here's several helpful packages to load\n",
    "\n",
    "import numpy as np # linear algebra\n",
    "import pandas as pd # data processing, CSV file I/O (e.g. pd.read_csv)\n",
    "\n",
    "# Input data files are available in the read-only \"../input/\" directory\n",
    "# For example, running this (by clicking run or pressing Shift+Enter) will list all files under the input directory\n",
    "\n",
    "import os\n",
    "for dirname, _, filenames in os.walk('/kaggle/input'):\n",
    "    for filename in filenames:\n",
    "        print(os.path.join(dirname, filename))\n",
    "\n"
   ]
  },
  {
   "cell_type": "code",
   "execution_count": 2,
   "id": "ef3dc68e",
   "metadata": {
    "execution": {
     "iopub.execute_input": "2024-08-07T07:59:31.482071Z",
     "iopub.status.busy": "2024-08-07T07:59:31.481227Z",
     "iopub.status.idle": "2024-08-07T08:00:10.860060Z",
     "shell.execute_reply": "2024-08-07T08:00:10.858690Z"
    },
    "papermill": {
     "duration": 39.388939,
     "end_time": "2024-08-07T08:00:10.862847",
     "exception": false,
     "start_time": "2024-08-07T07:59:31.473908",
     "status": "completed"
    },
    "tags": []
   },
   "outputs": [],
   "source": [
    "! pip install phik -q;\n",
    "! pip install catboost -q;\n",
    "! pip install shap -q;"
   ]
  },
  {
   "cell_type": "code",
   "execution_count": 3,
   "id": "97ecb922",
   "metadata": {
    "execution": {
     "iopub.execute_input": "2024-08-07T08:00:10.878022Z",
     "iopub.status.busy": "2024-08-07T08:00:10.877438Z",
     "iopub.status.idle": "2024-08-07T08:00:23.536403Z",
     "shell.execute_reply": "2024-08-07T08:00:23.535473Z"
    },
    "papermill": {
     "duration": 12.669093,
     "end_time": "2024-08-07T08:00:23.538754",
     "exception": false,
     "start_time": "2024-08-07T08:00:10.869661",
     "status": "completed"
    },
    "tags": []
   },
   "outputs": [],
   "source": [
    "import matplotlib.pyplot as plt\n",
    "import seaborn as sns\n",
    "\n",
    "from phik import phik_matrix\n",
    "\n",
    "from sklearn.model_selection import (train_test_split,\n",
    "                                     RandomizedSearchCV)\n",
    "\n",
    "from sklearn.preprocessing import StandardScaler\n",
    "\n",
    "from sklearn.metrics import classification_report, ConfusionMatrixDisplay, RocCurveDisplay\n",
    "\n",
    "from sklearn.compose import ColumnTransformer\n",
    "\n",
    "from sklearn.metrics import roc_auc_score\n",
    "\n",
    "\n",
    "from sklearn.linear_model import LogisticRegression\n",
    "\n",
    "from sklearn.tree import DecisionTreeClassifier\n",
    "\n",
    "from sklearn.svm import SVC\n",
    "\n",
    "from sklearn.ensemble import RandomForestClassifier\n",
    "\n",
    "from catboost import CatBoostClassifier\n",
    "\n",
    "from sklearn.pipeline import Pipeline\n",
    "\n",
    "from sklearn.decomposition import PCA\n",
    "\n",
    "from joblib import Parallel, delayed\n",
    "\n",
    "\n",
    "\n",
    "import shap\n",
    "import phik\n",
    "from time import time\n",
    "\n",
    "sns.set_style('darkgrid')\n",
    "sns.set(font_scale=1.3)"
   ]
  },
  {
   "cell_type": "code",
   "execution_count": 4,
   "id": "ca427aa2",
   "metadata": {
    "execution": {
     "iopub.execute_input": "2024-08-07T08:00:23.554308Z",
     "iopub.status.busy": "2024-08-07T08:00:23.553676Z",
     "iopub.status.idle": "2024-08-07T08:00:23.559954Z",
     "shell.execute_reply": "2024-08-07T08:00:23.559049Z"
    },
    "papermill": {
     "duration": 0.015673,
     "end_time": "2024-08-07T08:00:23.561818",
     "exception": false,
     "start_time": "2024-08-07T08:00:23.546145",
     "status": "completed"
    },
    "tags": []
   },
   "outputs": [
    {
     "name": "stdout",
     "output_type": "stream",
     "text": [
      "Number of CPUs: 2\n",
      "Number of Logical CPUs: 4\n"
     ]
    }
   ],
   "source": [
    "import psutil\n",
    "\n",
    "print(\"Number of CPUs:\", psutil.cpu_count(logical=False))  # Физические процессоры\n",
    "print(\"Number of Logical CPUs:\", psutil.cpu_count(logical=True))  # Логические процессоры (включая Hyper-Threading)"
   ]
  },
  {
   "cell_type": "code",
   "execution_count": 5,
   "id": "db4bfcf9",
   "metadata": {
    "execution": {
     "iopub.execute_input": "2024-08-07T08:00:23.575638Z",
     "iopub.status.busy": "2024-08-07T08:00:23.575382Z",
     "iopub.status.idle": "2024-08-07T08:00:34.097448Z",
     "shell.execute_reply": "2024-08-07T08:00:34.096563Z"
    },
    "papermill": {
     "duration": 10.531595,
     "end_time": "2024-08-07T08:00:34.099906",
     "exception": false,
     "start_time": "2024-08-07T08:00:23.568311",
     "status": "completed"
    },
    "tags": []
   },
   "outputs": [],
   "source": [
    "train = pd.read_csv('/kaggle/input/santander-customer-transaction-prediction/train.csv')"
   ]
  },
  {
   "cell_type": "code",
   "execution_count": 6,
   "id": "75b2d63d",
   "metadata": {
    "execution": {
     "iopub.execute_input": "2024-08-07T08:00:34.114437Z",
     "iopub.status.busy": "2024-08-07T08:00:34.114163Z",
     "iopub.status.idle": "2024-08-07T08:00:34.156523Z",
     "shell.execute_reply": "2024-08-07T08:00:34.155677Z"
    },
    "papermill": {
     "duration": 0.051734,
     "end_time": "2024-08-07T08:00:34.158391",
     "exception": false,
     "start_time": "2024-08-07T08:00:34.106657",
     "status": "completed"
    },
    "tags": []
   },
   "outputs": [
    {
     "data": {
      "text/html": [
       "<div>\n",
       "<style scoped>\n",
       "    .dataframe tbody tr th:only-of-type {\n",
       "        vertical-align: middle;\n",
       "    }\n",
       "\n",
       "    .dataframe tbody tr th {\n",
       "        vertical-align: top;\n",
       "    }\n",
       "\n",
       "    .dataframe thead th {\n",
       "        text-align: right;\n",
       "    }\n",
       "</style>\n",
       "<table border=\"1\" class=\"dataframe\">\n",
       "  <thead>\n",
       "    <tr style=\"text-align: right;\">\n",
       "      <th></th>\n",
       "      <th>ID_code</th>\n",
       "      <th>target</th>\n",
       "      <th>var_0</th>\n",
       "      <th>var_1</th>\n",
       "      <th>var_2</th>\n",
       "      <th>var_3</th>\n",
       "      <th>var_4</th>\n",
       "      <th>var_5</th>\n",
       "      <th>var_6</th>\n",
       "      <th>var_7</th>\n",
       "      <th>...</th>\n",
       "      <th>var_190</th>\n",
       "      <th>var_191</th>\n",
       "      <th>var_192</th>\n",
       "      <th>var_193</th>\n",
       "      <th>var_194</th>\n",
       "      <th>var_195</th>\n",
       "      <th>var_196</th>\n",
       "      <th>var_197</th>\n",
       "      <th>var_198</th>\n",
       "      <th>var_199</th>\n",
       "    </tr>\n",
       "  </thead>\n",
       "  <tbody>\n",
       "    <tr>\n",
       "      <th>0</th>\n",
       "      <td>train_0</td>\n",
       "      <td>0</td>\n",
       "      <td>8.9255</td>\n",
       "      <td>-6.7863</td>\n",
       "      <td>11.9081</td>\n",
       "      <td>5.0930</td>\n",
       "      <td>11.4607</td>\n",
       "      <td>-9.2834</td>\n",
       "      <td>5.1187</td>\n",
       "      <td>18.6266</td>\n",
       "      <td>...</td>\n",
       "      <td>4.4354</td>\n",
       "      <td>3.9642</td>\n",
       "      <td>3.1364</td>\n",
       "      <td>1.6910</td>\n",
       "      <td>18.5227</td>\n",
       "      <td>-2.3978</td>\n",
       "      <td>7.8784</td>\n",
       "      <td>8.5635</td>\n",
       "      <td>12.7803</td>\n",
       "      <td>-1.0914</td>\n",
       "    </tr>\n",
       "    <tr>\n",
       "      <th>1</th>\n",
       "      <td>train_1</td>\n",
       "      <td>0</td>\n",
       "      <td>11.5006</td>\n",
       "      <td>-4.1473</td>\n",
       "      <td>13.8588</td>\n",
       "      <td>5.3890</td>\n",
       "      <td>12.3622</td>\n",
       "      <td>7.0433</td>\n",
       "      <td>5.6208</td>\n",
       "      <td>16.5338</td>\n",
       "      <td>...</td>\n",
       "      <td>7.6421</td>\n",
       "      <td>7.7214</td>\n",
       "      <td>2.5837</td>\n",
       "      <td>10.9516</td>\n",
       "      <td>15.4305</td>\n",
       "      <td>2.0339</td>\n",
       "      <td>8.1267</td>\n",
       "      <td>8.7889</td>\n",
       "      <td>18.3560</td>\n",
       "      <td>1.9518</td>\n",
       "    </tr>\n",
       "    <tr>\n",
       "      <th>2</th>\n",
       "      <td>train_2</td>\n",
       "      <td>0</td>\n",
       "      <td>8.6093</td>\n",
       "      <td>-2.7457</td>\n",
       "      <td>12.0805</td>\n",
       "      <td>7.8928</td>\n",
       "      <td>10.5825</td>\n",
       "      <td>-9.0837</td>\n",
       "      <td>6.9427</td>\n",
       "      <td>14.6155</td>\n",
       "      <td>...</td>\n",
       "      <td>2.9057</td>\n",
       "      <td>9.7905</td>\n",
       "      <td>1.6704</td>\n",
       "      <td>1.6858</td>\n",
       "      <td>21.6042</td>\n",
       "      <td>3.1417</td>\n",
       "      <td>-6.5213</td>\n",
       "      <td>8.2675</td>\n",
       "      <td>14.7222</td>\n",
       "      <td>0.3965</td>\n",
       "    </tr>\n",
       "    <tr>\n",
       "      <th>3</th>\n",
       "      <td>train_3</td>\n",
       "      <td>0</td>\n",
       "      <td>11.0604</td>\n",
       "      <td>-2.1518</td>\n",
       "      <td>8.9522</td>\n",
       "      <td>7.1957</td>\n",
       "      <td>12.5846</td>\n",
       "      <td>-1.8361</td>\n",
       "      <td>5.8428</td>\n",
       "      <td>14.9250</td>\n",
       "      <td>...</td>\n",
       "      <td>4.4666</td>\n",
       "      <td>4.7433</td>\n",
       "      <td>0.7178</td>\n",
       "      <td>1.4214</td>\n",
       "      <td>23.0347</td>\n",
       "      <td>-1.2706</td>\n",
       "      <td>-2.9275</td>\n",
       "      <td>10.2922</td>\n",
       "      <td>17.9697</td>\n",
       "      <td>-8.9996</td>\n",
       "    </tr>\n",
       "    <tr>\n",
       "      <th>4</th>\n",
       "      <td>train_4</td>\n",
       "      <td>0</td>\n",
       "      <td>9.8369</td>\n",
       "      <td>-1.4834</td>\n",
       "      <td>12.8746</td>\n",
       "      <td>6.6375</td>\n",
       "      <td>12.2772</td>\n",
       "      <td>2.4486</td>\n",
       "      <td>5.9405</td>\n",
       "      <td>19.2514</td>\n",
       "      <td>...</td>\n",
       "      <td>-1.4905</td>\n",
       "      <td>9.5214</td>\n",
       "      <td>-0.1508</td>\n",
       "      <td>9.1942</td>\n",
       "      <td>13.2876</td>\n",
       "      <td>-1.5121</td>\n",
       "      <td>3.9267</td>\n",
       "      <td>9.5031</td>\n",
       "      <td>17.9974</td>\n",
       "      <td>-8.8104</td>\n",
       "    </tr>\n",
       "  </tbody>\n",
       "</table>\n",
       "<p>5 rows × 202 columns</p>\n",
       "</div>"
      ],
      "text/plain": [
       "   ID_code  target    var_0   var_1    var_2   var_3    var_4   var_5   var_6  \\\n",
       "0  train_0       0   8.9255 -6.7863  11.9081  5.0930  11.4607 -9.2834  5.1187   \n",
       "1  train_1       0  11.5006 -4.1473  13.8588  5.3890  12.3622  7.0433  5.6208   \n",
       "2  train_2       0   8.6093 -2.7457  12.0805  7.8928  10.5825 -9.0837  6.9427   \n",
       "3  train_3       0  11.0604 -2.1518   8.9522  7.1957  12.5846 -1.8361  5.8428   \n",
       "4  train_4       0   9.8369 -1.4834  12.8746  6.6375  12.2772  2.4486  5.9405   \n",
       "\n",
       "     var_7  ...  var_190  var_191  var_192  var_193  var_194  var_195  \\\n",
       "0  18.6266  ...   4.4354   3.9642   3.1364   1.6910  18.5227  -2.3978   \n",
       "1  16.5338  ...   7.6421   7.7214   2.5837  10.9516  15.4305   2.0339   \n",
       "2  14.6155  ...   2.9057   9.7905   1.6704   1.6858  21.6042   3.1417   \n",
       "3  14.9250  ...   4.4666   4.7433   0.7178   1.4214  23.0347  -1.2706   \n",
       "4  19.2514  ...  -1.4905   9.5214  -0.1508   9.1942  13.2876  -1.5121   \n",
       "\n",
       "   var_196  var_197  var_198  var_199  \n",
       "0   7.8784   8.5635  12.7803  -1.0914  \n",
       "1   8.1267   8.7889  18.3560   1.9518  \n",
       "2  -6.5213   8.2675  14.7222   0.3965  \n",
       "3  -2.9275  10.2922  17.9697  -8.9996  \n",
       "4   3.9267   9.5031  17.9974  -8.8104  \n",
       "\n",
       "[5 rows x 202 columns]"
      ]
     },
     "execution_count": 6,
     "metadata": {},
     "output_type": "execute_result"
    }
   ],
   "source": [
    "train.head()"
   ]
  },
  {
   "cell_type": "code",
   "execution_count": 7,
   "id": "c3f18e01",
   "metadata": {
    "execution": {
     "iopub.execute_input": "2024-08-07T08:00:34.172871Z",
     "iopub.status.busy": "2024-08-07T08:00:34.172590Z",
     "iopub.status.idle": "2024-08-07T08:00:34.206555Z",
     "shell.execute_reply": "2024-08-07T08:00:34.205614Z"
    },
    "papermill": {
     "duration": 0.043433,
     "end_time": "2024-08-07T08:00:34.208588",
     "exception": false,
     "start_time": "2024-08-07T08:00:34.165155",
     "status": "completed"
    },
    "tags": []
   },
   "outputs": [
    {
     "name": "stdout",
     "output_type": "stream",
     "text": [
      "<class 'pandas.core.frame.DataFrame'>\n",
      "RangeIndex: 200000 entries, 0 to 199999\n",
      "Columns: 202 entries, ID_code to var_199\n",
      "dtypes: float64(200), int64(1), object(1)\n",
      "memory usage: 308.2+ MB\n"
     ]
    }
   ],
   "source": [
    "train.info()"
   ]
  },
  {
   "cell_type": "code",
   "execution_count": 8,
   "id": "a4084a87",
   "metadata": {
    "execution": {
     "iopub.execute_input": "2024-08-07T08:00:34.223496Z",
     "iopub.status.busy": "2024-08-07T08:00:34.223238Z",
     "iopub.status.idle": "2024-08-07T08:00:34.307711Z",
     "shell.execute_reply": "2024-08-07T08:00:34.306748Z"
    },
    "papermill": {
     "duration": 0.094443,
     "end_time": "2024-08-07T08:00:34.309920",
     "exception": false,
     "start_time": "2024-08-07T08:00:34.215477",
     "status": "completed"
    },
    "tags": []
   },
   "outputs": [
    {
     "data": {
      "text/plain": [
       "var_190    0\n",
       "var_191    0\n",
       "var_192    0\n",
       "var_193    0\n",
       "var_194    0\n",
       "          ..\n",
       "var_11     0\n",
       "var_12     0\n",
       "var_13     0\n",
       "var_199    0\n",
       "ID_code    0\n",
       "Length: 202, dtype: int64"
      ]
     },
     "execution_count": 8,
     "metadata": {},
     "output_type": "execute_result"
    }
   ],
   "source": [
    "train.isna().sum().sort_values()"
   ]
  },
  {
   "cell_type": "code",
   "execution_count": 9,
   "id": "fc7a3d1a",
   "metadata": {
    "execution": {
     "iopub.execute_input": "2024-08-07T08:00:34.326651Z",
     "iopub.status.busy": "2024-08-07T08:00:34.326340Z",
     "iopub.status.idle": "2024-08-07T08:00:36.207925Z",
     "shell.execute_reply": "2024-08-07T08:00:36.207010Z"
    },
    "papermill": {
     "duration": 1.893066,
     "end_time": "2024-08-07T08:00:36.210164",
     "exception": false,
     "start_time": "2024-08-07T08:00:34.317098",
     "status": "completed"
    },
    "tags": []
   },
   "outputs": [
    {
     "data": {
      "text/plain": [
       "0"
      ]
     },
     "execution_count": 9,
     "metadata": {},
     "output_type": "execute_result"
    }
   ],
   "source": [
    "train.drop('ID_code', axis = 1).duplicated().sum()"
   ]
  },
  {
   "cell_type": "code",
   "execution_count": 10,
   "id": "245d4383",
   "metadata": {
    "execution": {
     "iopub.execute_input": "2024-08-07T08:00:36.226139Z",
     "iopub.status.busy": "2024-08-07T08:00:36.225660Z",
     "iopub.status.idle": "2024-08-07T08:00:36.342442Z",
     "shell.execute_reply": "2024-08-07T08:00:36.341517Z"
    },
    "papermill": {
     "duration": 0.127189,
     "end_time": "2024-08-07T08:00:36.344734",
     "exception": false,
     "start_time": "2024-08-07T08:00:36.217545",
     "status": "completed"
    },
    "tags": []
   },
   "outputs": [
    {
     "data": {
      "text/html": [
       "<div>\n",
       "<style scoped>\n",
       "    .dataframe tbody tr th:only-of-type {\n",
       "        vertical-align: middle;\n",
       "    }\n",
       "\n",
       "    .dataframe tbody tr th {\n",
       "        vertical-align: top;\n",
       "    }\n",
       "\n",
       "    .dataframe thead th {\n",
       "        text-align: right;\n",
       "    }\n",
       "</style>\n",
       "<table border=\"1\" class=\"dataframe\">\n",
       "  <thead>\n",
       "    <tr style=\"text-align: right;\">\n",
       "      <th></th>\n",
       "      <th>target</th>\n",
       "      <th>var_0</th>\n",
       "      <th>var_1</th>\n",
       "      <th>var_2</th>\n",
       "      <th>var_3</th>\n",
       "      <th>var_4</th>\n",
       "      <th>var_5</th>\n",
       "      <th>var_6</th>\n",
       "      <th>var_7</th>\n",
       "      <th>var_8</th>\n",
       "      <th>...</th>\n",
       "      <th>var_190</th>\n",
       "      <th>var_191</th>\n",
       "      <th>var_192</th>\n",
       "      <th>var_193</th>\n",
       "      <th>var_194</th>\n",
       "      <th>var_195</th>\n",
       "      <th>var_196</th>\n",
       "      <th>var_197</th>\n",
       "      <th>var_198</th>\n",
       "      <th>var_199</th>\n",
       "    </tr>\n",
       "  </thead>\n",
       "  <tbody>\n",
       "    <tr>\n",
       "      <th>0</th>\n",
       "      <td>0</td>\n",
       "      <td>8.9255</td>\n",
       "      <td>-6.7863</td>\n",
       "      <td>11.9081</td>\n",
       "      <td>5.0930</td>\n",
       "      <td>11.4607</td>\n",
       "      <td>-9.2834</td>\n",
       "      <td>5.1187</td>\n",
       "      <td>18.6266</td>\n",
       "      <td>-4.9200</td>\n",
       "      <td>...</td>\n",
       "      <td>4.4354</td>\n",
       "      <td>3.9642</td>\n",
       "      <td>3.1364</td>\n",
       "      <td>1.6910</td>\n",
       "      <td>18.5227</td>\n",
       "      <td>-2.3978</td>\n",
       "      <td>7.8784</td>\n",
       "      <td>8.5635</td>\n",
       "      <td>12.7803</td>\n",
       "      <td>-1.0914</td>\n",
       "    </tr>\n",
       "    <tr>\n",
       "      <th>1</th>\n",
       "      <td>0</td>\n",
       "      <td>11.5006</td>\n",
       "      <td>-4.1473</td>\n",
       "      <td>13.8588</td>\n",
       "      <td>5.3890</td>\n",
       "      <td>12.3622</td>\n",
       "      <td>7.0433</td>\n",
       "      <td>5.6208</td>\n",
       "      <td>16.5338</td>\n",
       "      <td>3.1468</td>\n",
       "      <td>...</td>\n",
       "      <td>7.6421</td>\n",
       "      <td>7.7214</td>\n",
       "      <td>2.5837</td>\n",
       "      <td>10.9516</td>\n",
       "      <td>15.4305</td>\n",
       "      <td>2.0339</td>\n",
       "      <td>8.1267</td>\n",
       "      <td>8.7889</td>\n",
       "      <td>18.3560</td>\n",
       "      <td>1.9518</td>\n",
       "    </tr>\n",
       "    <tr>\n",
       "      <th>2</th>\n",
       "      <td>0</td>\n",
       "      <td>8.6093</td>\n",
       "      <td>-2.7457</td>\n",
       "      <td>12.0805</td>\n",
       "      <td>7.8928</td>\n",
       "      <td>10.5825</td>\n",
       "      <td>-9.0837</td>\n",
       "      <td>6.9427</td>\n",
       "      <td>14.6155</td>\n",
       "      <td>-4.9193</td>\n",
       "      <td>...</td>\n",
       "      <td>2.9057</td>\n",
       "      <td>9.7905</td>\n",
       "      <td>1.6704</td>\n",
       "      <td>1.6858</td>\n",
       "      <td>21.6042</td>\n",
       "      <td>3.1417</td>\n",
       "      <td>-6.5213</td>\n",
       "      <td>8.2675</td>\n",
       "      <td>14.7222</td>\n",
       "      <td>0.3965</td>\n",
       "    </tr>\n",
       "    <tr>\n",
       "      <th>3</th>\n",
       "      <td>0</td>\n",
       "      <td>11.0604</td>\n",
       "      <td>-2.1518</td>\n",
       "      <td>8.9522</td>\n",
       "      <td>7.1957</td>\n",
       "      <td>12.5846</td>\n",
       "      <td>-1.8361</td>\n",
       "      <td>5.8428</td>\n",
       "      <td>14.9250</td>\n",
       "      <td>-5.8609</td>\n",
       "      <td>...</td>\n",
       "      <td>4.4666</td>\n",
       "      <td>4.7433</td>\n",
       "      <td>0.7178</td>\n",
       "      <td>1.4214</td>\n",
       "      <td>23.0347</td>\n",
       "      <td>-1.2706</td>\n",
       "      <td>-2.9275</td>\n",
       "      <td>10.2922</td>\n",
       "      <td>17.9697</td>\n",
       "      <td>-8.9996</td>\n",
       "    </tr>\n",
       "    <tr>\n",
       "      <th>4</th>\n",
       "      <td>0</td>\n",
       "      <td>9.8369</td>\n",
       "      <td>-1.4834</td>\n",
       "      <td>12.8746</td>\n",
       "      <td>6.6375</td>\n",
       "      <td>12.2772</td>\n",
       "      <td>2.4486</td>\n",
       "      <td>5.9405</td>\n",
       "      <td>19.2514</td>\n",
       "      <td>6.2654</td>\n",
       "      <td>...</td>\n",
       "      <td>-1.4905</td>\n",
       "      <td>9.5214</td>\n",
       "      <td>-0.1508</td>\n",
       "      <td>9.1942</td>\n",
       "      <td>13.2876</td>\n",
       "      <td>-1.5121</td>\n",
       "      <td>3.9267</td>\n",
       "      <td>9.5031</td>\n",
       "      <td>17.9974</td>\n",
       "      <td>-8.8104</td>\n",
       "    </tr>\n",
       "  </tbody>\n",
       "</table>\n",
       "<p>5 rows × 201 columns</p>\n",
       "</div>"
      ],
      "text/plain": [
       "   target    var_0   var_1    var_2   var_3    var_4   var_5   var_6    var_7  \\\n",
       "0       0   8.9255 -6.7863  11.9081  5.0930  11.4607 -9.2834  5.1187  18.6266   \n",
       "1       0  11.5006 -4.1473  13.8588  5.3890  12.3622  7.0433  5.6208  16.5338   \n",
       "2       0   8.6093 -2.7457  12.0805  7.8928  10.5825 -9.0837  6.9427  14.6155   \n",
       "3       0  11.0604 -2.1518   8.9522  7.1957  12.5846 -1.8361  5.8428  14.9250   \n",
       "4       0   9.8369 -1.4834  12.8746  6.6375  12.2772  2.4486  5.9405  19.2514   \n",
       "\n",
       "    var_8  ...  var_190  var_191  var_192  var_193  var_194  var_195  var_196  \\\n",
       "0 -4.9200  ...   4.4354   3.9642   3.1364   1.6910  18.5227  -2.3978   7.8784   \n",
       "1  3.1468  ...   7.6421   7.7214   2.5837  10.9516  15.4305   2.0339   8.1267   \n",
       "2 -4.9193  ...   2.9057   9.7905   1.6704   1.6858  21.6042   3.1417  -6.5213   \n",
       "3 -5.8609  ...   4.4666   4.7433   0.7178   1.4214  23.0347  -1.2706  -2.9275   \n",
       "4  6.2654  ...  -1.4905   9.5214  -0.1508   9.1942  13.2876  -1.5121   3.9267   \n",
       "\n",
       "   var_197  var_198  var_199  \n",
       "0   8.5635  12.7803  -1.0914  \n",
       "1   8.7889  18.3560   1.9518  \n",
       "2   8.2675  14.7222   0.3965  \n",
       "3  10.2922  17.9697  -8.9996  \n",
       "4   9.5031  17.9974  -8.8104  \n",
       "\n",
       "[5 rows x 201 columns]"
      ]
     },
     "execution_count": 10,
     "metadata": {},
     "output_type": "execute_result"
    }
   ],
   "source": [
    "train = train.drop('ID_code', axis = 1)\n",
    "train.head()"
   ]
  },
  {
   "cell_type": "code",
   "execution_count": 11,
   "id": "d1357895",
   "metadata": {
    "execution": {
     "iopub.execute_input": "2024-08-07T08:00:36.361411Z",
     "iopub.status.busy": "2024-08-07T08:00:36.361121Z",
     "iopub.status.idle": "2024-08-07T08:00:36.457587Z",
     "shell.execute_reply": "2024-08-07T08:00:36.456775Z"
    },
    "papermill": {
     "duration": 0.107468,
     "end_time": "2024-08-07T08:00:36.460241",
     "exception": false,
     "start_time": "2024-08-07T08:00:36.352773",
     "status": "completed"
    },
    "tags": []
   },
   "outputs": [],
   "source": [
    "RANDOM_STATE = 42\n",
    "\n",
    "\n",
    "X = train.drop('target', axis = 1)\n",
    "\n",
    "y = train['target']\n",
    "\n",
    "num_col = list(X)"
   ]
  },
  {
   "cell_type": "code",
   "execution_count": 12,
   "id": "99badd1b",
   "metadata": {
    "execution": {
     "iopub.execute_input": "2024-08-07T08:00:36.477121Z",
     "iopub.status.busy": "2024-08-07T08:00:36.476863Z",
     "iopub.status.idle": "2024-08-07T08:00:36.481730Z",
     "shell.execute_reply": "2024-08-07T08:00:36.481011Z"
    },
    "papermill": {
     "duration": 0.014971,
     "end_time": "2024-08-07T08:00:36.483471",
     "exception": false,
     "start_time": "2024-08-07T08:00:36.468500",
     "status": "completed"
    },
    "tags": []
   },
   "outputs": [],
   "source": [
    "num_pipe = Pipeline(\n",
    "    [\n",
    "        ('num', StandardScaler())\n",
    "    ]\n",
    ")\n",
    "\n",
    "data_preprocessor = ColumnTransformer(\n",
    "    [\n",
    "        ('num', num_pipe, num_col)\n",
    "    ]\n",
    ")\n",
    "\n",
    "\n",
    "pipe_final = Pipeline([\n",
    "    ('preprocessor', data_preprocessor),\n",
    "    ('models', LogisticRegression())\n",
    "])"
   ]
  },
  {
   "cell_type": "code",
   "execution_count": 13,
   "id": "97188ffe",
   "metadata": {
    "execution": {
     "iopub.execute_input": "2024-08-07T08:00:36.500344Z",
     "iopub.status.busy": "2024-08-07T08:00:36.500061Z",
     "iopub.status.idle": "2024-08-07T08:00:36.513558Z",
     "shell.execute_reply": "2024-08-07T08:00:36.512749Z"
    },
    "papermill": {
     "duration": 0.024164,
     "end_time": "2024-08-07T08:00:36.515439",
     "exception": false,
     "start_time": "2024-08-07T08:00:36.491275",
     "status": "completed"
    },
    "tags": []
   },
   "outputs": [],
   "source": [
    "param_DTC = {\n",
    "        'models': [DecisionTreeClassifier(random_state=RANDOM_STATE)],\n",
    "        'models__max_depth': range(2, 10),\n",
    "        'models__min_samples_leaf': range(2, 10),\n",
    "        'models__min_samples_split': range(2, 15)\n",
    "}\n",
    "    \n",
    "param_RFC = {\n",
    "        'models': [RandomForestClassifier(random_state=RANDOM_STATE)],\n",
    "        'models__max_depth': range(10, 20),\n",
    "        'models__min_samples_split': range(2, 10),\n",
    "        'models__min_samples_leaf': range(1, 10),\n",
    "        'models__n_estimators' : range(50, 300)\n",
    "}\n",
    "\n",
    "param_SVC = {\n",
    "        'models': [SVC(random_state=RANDOM_STATE)],\n",
    "        'models__C': [0.01, 0.1, 1, 10, 100],\n",
    "        'models__kernel': ['linear', 'poly', 'rbf'],\n",
    "        'models__degree': range(2, 5),\n",
    "        'models__gamma': ['scale', 'auto', 0.001, 0.01, 0.1, 1, 10],\n",
    "        'models__coef0': [0.0, 0.1, 0.5, 1.0]\n",
    "}\n",
    "\n",
    "\n",
    "param_grid_lr = {\n",
    "        'models': [LogisticRegression()],\n",
    "        'models__C': [0.01, 0.1, 1, 10, 100],\n",
    "        'models__max_iter' : range(100, 1000)\n",
    "        \n",
    "}\n",
    "\n",
    "\n",
    "param_grid_CBR = {\n",
    "        'models': [CatBoostClassifier(eval_metric = 'AUC',random_state=RANDOM_STATE)],\n",
    "        'models__iterations': [500, 1000, 1500],\n",
    "        'models__learning_rate': [0.1, 0.15, 0.2],\n",
    "        'models__l2_leaf_reg': range(1, 8),\n",
    "        'models__border_count': range(32, 224, 64),\n",
    "        'models__bagging_temperature': [0, 0.5, 1]\n",
    "}\n",
    "\n",
    "models_params = [param_grid_lr]#, param_DTC, param_RFC, param_SVC, param_grid_CBR]"
   ]
  },
  {
   "cell_type": "code",
   "execution_count": 14,
   "id": "4247fb94",
   "metadata": {
    "execution": {
     "iopub.execute_input": "2024-08-07T08:00:36.531097Z",
     "iopub.status.busy": "2024-08-07T08:00:36.530840Z",
     "iopub.status.idle": "2024-08-07T08:01:16.312560Z",
     "shell.execute_reply": "2024-08-07T08:01:16.310744Z"
    },
    "papermill": {
     "duration": 39.793918,
     "end_time": "2024-08-07T08:01:16.316721",
     "exception": false,
     "start_time": "2024-08-07T08:00:36.522803",
     "status": "completed"
    },
    "tags": []
   },
   "outputs": [],
   "source": [
    "best_models = []\n",
    "for i in models_params:\n",
    "    randomized_search = RandomizedSearchCV(\n",
    "        pipe_final,\n",
    "        i,\n",
    "        scoring = 'roc_auc',\n",
    "        error_score='raise',\n",
    "        random_state = RANDOM_STATE,\n",
    "        n_jobs= -1,\n",
    "        n_iter= 20,\n",
    "        cv=3\n",
    "    )\n",
    "    \n",
    "    randomized_search.fit(X, y)\n",
    "    \n",
    "    best_models.append({\n",
    "    'best_model' : randomized_search.best_params_['models'],\n",
    "    'roc_auc' : round(randomized_search.best_score_, 3),\n",
    "    'learn_time' : round(randomized_search.refit_time_,2)\n",
    "    })\n",
    "best_models = pd.DataFrame(best_models)"
   ]
  },
  {
   "cell_type": "code",
   "execution_count": 15,
   "id": "78cf8024",
   "metadata": {
    "execution": {
     "iopub.execute_input": "2024-08-07T08:01:16.351735Z",
     "iopub.status.busy": "2024-08-07T08:01:16.351235Z",
     "iopub.status.idle": "2024-08-07T08:01:16.374261Z",
     "shell.execute_reply": "2024-08-07T08:01:16.373143Z"
    },
    "papermill": {
     "duration": 0.04624,
     "end_time": "2024-08-07T08:01:16.380087",
     "exception": false,
     "start_time": "2024-08-07T08:01:16.333847",
     "status": "completed"
    },
    "tags": []
   },
   "outputs": [
    {
     "data": {
      "text/html": [
       "<div>\n",
       "<style scoped>\n",
       "    .dataframe tbody tr th:only-of-type {\n",
       "        vertical-align: middle;\n",
       "    }\n",
       "\n",
       "    .dataframe tbody tr th {\n",
       "        vertical-align: top;\n",
       "    }\n",
       "\n",
       "    .dataframe thead th {\n",
       "        text-align: right;\n",
       "    }\n",
       "</style>\n",
       "<table border=\"1\" class=\"dataframe\">\n",
       "  <thead>\n",
       "    <tr style=\"text-align: right;\">\n",
       "      <th></th>\n",
       "      <th>best_model</th>\n",
       "      <th>roc_auc</th>\n",
       "      <th>learn_time</th>\n",
       "    </tr>\n",
       "  </thead>\n",
       "  <tbody>\n",
       "    <tr>\n",
       "      <th>0</th>\n",
       "      <td>LogisticRegression(C=0.01, max_iter=960)</td>\n",
       "      <td>0.859</td>\n",
       "      <td>1.43</td>\n",
       "    </tr>\n",
       "  </tbody>\n",
       "</table>\n",
       "</div>"
      ],
      "text/plain": [
       "                                 best_model  roc_auc  learn_time\n",
       "0  LogisticRegression(C=0.01, max_iter=960)    0.859        1.43"
      ]
     },
     "execution_count": 15,
     "metadata": {},
     "output_type": "execute_result"
    }
   ],
   "source": [
    "best_models"
   ]
  },
  {
   "cell_type": "code",
   "execution_count": 16,
   "id": "c953cbb5",
   "metadata": {
    "execution": {
     "iopub.execute_input": "2024-08-07T08:01:16.415925Z",
     "iopub.status.busy": "2024-08-07T08:01:16.415298Z",
     "iopub.status.idle": "2024-08-07T08:01:19.801907Z",
     "shell.execute_reply": "2024-08-07T08:01:19.800829Z"
    },
    "papermill": {
     "duration": 3.406909,
     "end_time": "2024-08-07T08:01:19.804399",
     "exception": false,
     "start_time": "2024-08-07T08:01:16.397490",
     "status": "completed"
    },
    "tags": []
   },
   "outputs": [],
   "source": [
    "pca_train = PCA()\n",
    "pca = pca_train.fit(X)"
   ]
  },
  {
   "cell_type": "code",
   "execution_count": 17,
   "id": "06b005a2",
   "metadata": {
    "execution": {
     "iopub.execute_input": "2024-08-07T08:01:19.821934Z",
     "iopub.status.busy": "2024-08-07T08:01:19.821609Z",
     "iopub.status.idle": "2024-08-07T08:01:20.174149Z",
     "shell.execute_reply": "2024-08-07T08:01:20.173244Z"
    },
    "papermill": {
     "duration": 0.363367,
     "end_time": "2024-08-07T08:01:20.176244",
     "exception": false,
     "start_time": "2024-08-07T08:01:19.812877",
     "status": "completed"
    },
    "tags": []
   },
   "outputs": [
    {
     "data": {
      "image/png": "[encoded data removed]",
      "text/plain": [
       "<Figure size 1000x700 with 1 Axes>"
      ]
     },
     "metadata": {},
     "output_type": "display_data"
    }
   ],
   "source": [
    "plt.figure(figsize=(10, 7))\n",
    "plt.plot(np.cumsum(pca.explained_variance_ratio_))\n",
    "plt.xlabel('Number of Principal Components')\n",
    "plt.ylabel('Cumulative Explained Variance')\n",
    "plt.title('Explained Variance by Principal Components')\n",
    "plt.show()"
   ]
  },
  {
   "cell_type": "code",
   "execution_count": 18,
   "id": "2facb911",
   "metadata": {
    "execution": {
     "iopub.execute_input": "2024-08-07T08:01:20.194943Z",
     "iopub.status.busy": "2024-08-07T08:01:20.194400Z",
     "iopub.status.idle": "2024-08-07T08:01:20.198855Z",
     "shell.execute_reply": "2024-08-07T08:01:20.198030Z"
    },
    "papermill": {
     "duration": 0.016179,
     "end_time": "2024-08-07T08:01:20.201077",
     "exception": false,
     "start_time": "2024-08-07T08:01:20.184898",
     "status": "completed"
    },
    "tags": []
   },
   "outputs": [
    {
     "name": "stdout",
     "output_type": "stream",
     "text": [
      "Number of components to retain 90% of variance: 90\n"
     ]
    }
   ],
   "source": [
    "n_components = np.argmax(np.cumsum(pca.explained_variance_ratio_) >= 0.90) + 1\n",
    "print(f'Number of components to retain 90% of variance: {n_components}')"
   ]
  },
  {
   "cell_type": "code",
   "execution_count": 19,
   "id": "01663e27",
   "metadata": {
    "execution": {
     "iopub.execute_input": "2024-08-07T08:01:20.219315Z",
     "iopub.status.busy": "2024-08-07T08:01:20.219069Z",
     "iopub.status.idle": "2024-08-07T08:01:27.138001Z",
     "shell.execute_reply": "2024-08-07T08:01:27.137193Z"
    },
    "papermill": {
     "duration": 6.930651,
     "end_time": "2024-08-07T08:01:27.140411",
     "exception": false,
     "start_time": "2024-08-07T08:01:20.209760",
     "status": "completed"
    },
    "tags": []
   },
   "outputs": [],
   "source": [
    "pca = PCA(n_components=n_components)\n",
    "X_pca = pca.fit_transform(X)\n",
    "\n",
    "X_pca = pd.DataFrame(X_pca)"
   ]
  },
  {
   "cell_type": "code",
   "execution_count": 20,
   "id": "0c01937d",
   "metadata": {
    "execution": {
     "iopub.execute_input": "2024-08-07T08:01:27.159717Z",
     "iopub.status.busy": "2024-08-07T08:01:27.159205Z",
     "iopub.status.idle": "2024-08-07T08:01:27.163218Z",
     "shell.execute_reply": "2024-08-07T08:01:27.162388Z"
    },
    "papermill": {
     "duration": 0.015704,
     "end_time": "2024-08-07T08:01:27.165257",
     "exception": false,
     "start_time": "2024-08-07T08:01:27.149553",
     "status": "completed"
    },
    "tags": []
   },
   "outputs": [],
   "source": [
    "num_col_pca = list[X_pca]"
   ]
  },
  {
   "cell_type": "code",
   "execution_count": 21,
   "id": "9b891fd7",
   "metadata": {
    "execution": {
     "iopub.execute_input": "2024-08-07T08:01:27.184451Z",
     "iopub.status.busy": "2024-08-07T08:01:27.184005Z",
     "iopub.status.idle": "2024-08-07T08:01:27.189305Z",
     "shell.execute_reply": "2024-08-07T08:01:27.188524Z"
    },
    "papermill": {
     "duration": 0.016673,
     "end_time": "2024-08-07T08:01:27.191134",
     "exception": false,
     "start_time": "2024-08-07T08:01:27.174461",
     "status": "completed"
    },
    "tags": []
   },
   "outputs": [
    {
     "data": {
      "text/plain": [
       "(200000, 90)"
      ]
     },
     "execution_count": 21,
     "metadata": {},
     "output_type": "execute_result"
    }
   ],
   "source": [
    "X_pca.shape"
   ]
  },
  {
   "cell_type": "code",
   "execution_count": 22,
   "id": "552bcea0",
   "metadata": {
    "execution": {
     "iopub.execute_input": "2024-08-07T08:01:27.210324Z",
     "iopub.status.busy": "2024-08-07T08:01:27.209608Z",
     "iopub.status.idle": "2024-08-07T08:01:27.214304Z",
     "shell.execute_reply": "2024-08-07T08:01:27.213649Z"
    },
    "papermill": {
     "duration": 0.016076,
     "end_time": "2024-08-07T08:01:27.216146",
     "exception": false,
     "start_time": "2024-08-07T08:01:27.200070",
     "status": "completed"
    },
    "tags": []
   },
   "outputs": [],
   "source": [
    "num_pipe_pca = Pipeline(\n",
    "    [\n",
    "        ('num', StandardScaler())\n",
    "    ]\n",
    ")\n",
    "\n",
    "data_preprocessor_pca = ColumnTransformer(\n",
    "    [\n",
    "        ('num', num_pipe, num_col_pca)\n",
    "    ]\n",
    ")\n",
    "\n",
    "\n",
    "pipe_final_pca = Pipeline([\n",
    "    ('preprocessor', data_preprocessor_pca),\n",
    "    ('models', LogisticRegression())\n",
    "])"
   ]
  },
  {
   "cell_type": "code",
   "execution_count": 23,
   "id": "a3358e16",
   "metadata": {
    "execution": {
     "iopub.execute_input": "2024-08-07T08:01:27.235400Z",
     "iopub.status.busy": "2024-08-07T08:01:27.234911Z",
     "iopub.status.idle": "2024-08-07T08:02:02.906244Z",
     "shell.execute_reply": "2024-08-07T08:02:02.904585Z"
    },
    "papermill": {
     "duration": 35.684894,
     "end_time": "2024-08-07T08:02:02.910260",
     "exception": false,
     "start_time": "2024-08-07T08:01:27.225366",
     "status": "completed"
    },
    "tags": []
   },
   "outputs": [],
   "source": [
    "best_models_pca = []\n",
    "for i in models_params:\n",
    "    randomized_search_pca = RandomizedSearchCV(\n",
    "        pipe_final_pca,\n",
    "        i,\n",
    "        scoring = 'roc_auc',\n",
    "        error_score='raise',\n",
    "        random_state = RANDOM_STATE,\n",
    "        n_jobs= 2,\n",
    "        n_iter= 20,\n",
    "        cv=3\n",
    "    )\n",
    "    \n",
    "    randomized_search_pca.fit(X_pca, y)\n",
    "    \n",
    "    best_models_pca.append({\n",
    "    'best_model' : randomized_search_pca.best_params_['models'],\n",
    "    'roc_auc' : round(randomized_search_pca.best_score_, 3),\n",
    "    'learn_time' : round(randomized_search_pca.refit_time_,2)\n",
    "    })\n",
    "best_models_pca = pd.DataFrame(best_models_pca)"
   ]
  },
  {
   "cell_type": "code",
   "execution_count": 24,
   "id": "e9a03647",
   "metadata": {
    "execution": {
     "iopub.execute_input": "2024-08-07T08:02:02.954930Z",
     "iopub.status.busy": "2024-08-07T08:02:02.954367Z",
     "iopub.status.idle": "2024-08-07T08:02:02.979181Z",
     "shell.execute_reply": "2024-08-07T08:02:02.977980Z"
    },
    "papermill": {
     "duration": 0.051128,
     "end_time": "2024-08-07T08:02:02.982882",
     "exception": false,
     "start_time": "2024-08-07T08:02:02.931754",
     "status": "completed"
    },
    "tags": []
   },
   "outputs": [
    {
     "data": {
      "text/html": [
       "<div>\n",
       "<style scoped>\n",
       "    .dataframe tbody tr th:only-of-type {\n",
       "        vertical-align: middle;\n",
       "    }\n",
       "\n",
       "    .dataframe tbody tr th {\n",
       "        vertical-align: top;\n",
       "    }\n",
       "\n",
       "    .dataframe thead th {\n",
       "        text-align: right;\n",
       "    }\n",
       "</style>\n",
       "<table border=\"1\" class=\"dataframe\">\n",
       "  <thead>\n",
       "    <tr style=\"text-align: right;\">\n",
       "      <th></th>\n",
       "      <th>best_model</th>\n",
       "      <th>roc_auc</th>\n",
       "      <th>learn_time</th>\n",
       "    </tr>\n",
       "  </thead>\n",
       "  <tbody>\n",
       "    <tr>\n",
       "      <th>0</th>\n",
       "      <td>LogisticRegression(C=0.01, max_iter=960)</td>\n",
       "      <td>0.772</td>\n",
       "      <td>0.87</td>\n",
       "    </tr>\n",
       "  </tbody>\n",
       "</table>\n",
       "</div>"
      ],
      "text/plain": [
       "                                 best_model  roc_auc  learn_time\n",
       "0  LogisticRegression(C=0.01, max_iter=960)    0.772        0.87"
      ]
     },
     "execution_count": 24,
     "metadata": {},
     "output_type": "execute_result"
    }
   ],
   "source": [
    "best_models_pca "
   ]
  },
  {
   "cell_type": "code",
   "execution_count": 25,
   "id": "82525d2a",
   "metadata": {
    "execution": {
     "iopub.execute_input": "2024-08-07T08:02:03.026126Z",
     "iopub.status.busy": "2024-08-07T08:02:03.025639Z",
     "iopub.status.idle": "2024-08-07T08:02:03.037524Z",
     "shell.execute_reply": "2024-08-07T08:02:03.036606Z"
    },
    "papermill": {
     "duration": 0.035305,
     "end_time": "2024-08-07T08:02:03.039219",
     "exception": false,
     "start_time": "2024-08-07T08:02:03.003914",
     "status": "completed"
    },
    "tags": []
   },
   "outputs": [
    {
     "data": {
      "text/html": [
       "<div>\n",
       "<style scoped>\n",
       "    .dataframe tbody tr th:only-of-type {\n",
       "        vertical-align: middle;\n",
       "    }\n",
       "\n",
       "    .dataframe tbody tr th {\n",
       "        vertical-align: top;\n",
       "    }\n",
       "\n",
       "    .dataframe thead th {\n",
       "        text-align: right;\n",
       "    }\n",
       "</style>\n",
       "<table border=\"1\" class=\"dataframe\">\n",
       "  <thead>\n",
       "    <tr style=\"text-align: right;\">\n",
       "      <th></th>\n",
       "      <th>best_model</th>\n",
       "      <th>roc_auc</th>\n",
       "      <th>learn_time</th>\n",
       "    </tr>\n",
       "  </thead>\n",
       "  <tbody>\n",
       "    <tr>\n",
       "      <th>0</th>\n",
       "      <td>LogisticRegression(C=0.01, max_iter=960)</td>\n",
       "      <td>0.859</td>\n",
       "      <td>1.43</td>\n",
       "    </tr>\n",
       "  </tbody>\n",
       "</table>\n",
       "</div>"
      ],
      "text/plain": [
       "                                 best_model  roc_auc  learn_time\n",
       "0  LogisticRegression(C=0.01, max_iter=960)    0.859        1.43"
      ]
     },
     "execution_count": 25,
     "metadata": {},
     "output_type": "execute_result"
    }
   ],
   "source": [
    "best_models"
   ]
  }
 ],
 "metadata": {
  "kaggle": {
   "accelerator": "nvidiaTeslaT4",
   "dataSources": [
    {
     "databundleVersionId": 298493,
     "sourceId": 10385,
     "sourceType": "competition"
    }
   ],
   "dockerImageVersionId": 30746,
   "isGpuEnabled": true,
   "isInternetEnabled": true,
   "language": "python",
   "sourceType": "notebook"
  },
  "kernelspec": {
   "display_name": "Python 3",
   "language": "python",
   "name": "python3"
  },
  "language_info": {
   "codemirror_mode": {
    "name": "ipython",
    "version": 3
   },
   "file_extension": ".py",
   "mimetype": "text/x-python",
   "name": "python",
   "nbconvert_exporter": "python",
   "pygments_lexer": "ipython3",
   "version": "3.10.13"
  },
  "papermill": {
   "default_parameters": {},
   "duration": 159.478101,
   "end_time": "2024-08-07T08:02:05.667235",
   "environment_variables": {},
   "exception": null,
   "input_path": "__notebook__.ipynb",
   "output_path": "__notebook__.ipynb",
   "parameters": {},
   "start_time": "2024-08-07T07:59:26.189134",
   "version": "2.5.0"
  }
 },
 "nbformat": 4,
 "nbformat_minor": 5
}
